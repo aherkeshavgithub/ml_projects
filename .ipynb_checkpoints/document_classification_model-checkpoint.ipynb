{
 "cells": [
  {
   "cell_type": "code",
   "execution_count": 2,
   "id": "9353fe03-a089-4400-b379-0806b0a5b854",
   "metadata": {},
   "outputs": [
    {
     "name": "stdout",
     "output_type": "stream",
     "text": [
      "Python 3.9.5\n"
     ]
    }
   ],
   "source": [
    "!python --version"
   ]
  },
  {
   "cell_type": "code",
   "execution_count": 4,
   "id": "7e8002b2-86eb-4f83-a314-43f81b65d79c",
   "metadata": {},
   "outputs": [],
   "source": [
    "from platform import  python_version"
   ]
  },
  {
   "cell_type": "code",
   "execution_count": 5,
   "id": "fa98d456-9eae-48ae-ac2b-68d0ddd633c2",
   "metadata": {},
   "outputs": [
    {
     "data": {
      "text/plain": [
       "'3.10.6'"
      ]
     },
     "execution_count": 5,
     "metadata": {},
     "output_type": "execute_result"
    }
   ],
   "source": [
    "python_version()"
   ]
  },
  {
   "cell_type": "code",
   "execution_count": 6,
   "id": "4219eab1-aaf9-45e8-9b75-e2aa3905e4a7",
   "metadata": {},
   "outputs": [],
   "source": [
    "import os\n",
    "import glob"
   ]
  },
  {
   "cell_type": "code",
   "execution_count": 30,
   "id": "ce31c73c-7aae-40f9-a1a9-f592f7460868",
   "metadata": {},
   "outputs": [
    {
     "data": {
      "text/plain": [
       "['business', 'entertainment', 'politics', 'sport', 'tech']"
      ]
     },
     "execution_count": 30,
     "metadata": {},
     "output_type": "execute_result"
    }
   ],
   "source": [
    "path=r'text\\bbc'\n",
    "\n",
    "# b_text_files=glob.glob(\"\")\n",
    "files=os.listdir(path)\n",
    "files"
   ]
  },
  {
   "cell_type": "code",
   "execution_count": 34,
   "id": "7115e320-1eae-4b4a-9e87-70b79e17f643",
   "metadata": {},
   "outputs": [
    {
     "data": {
      "text/plain": [
       "2225"
      ]
     },
     "execution_count": 34,
     "metadata": {},
     "output_type": "execute_result"
    }
   ],
   "source": [
    "artical_list=[]\n",
    "for file in files:\n",
    "    text_files=glob.glob(f\"{path}\\{file}\\\\*.txt\")\n",
    "    # print(text_files)\n",
    "    for text_file in text_files:\n",
    "        with open(text_file) as f:\n",
    "            text=f.read()\n",
    "            artical_list.append(text)\n",
    "\n",
    "len(artical_list)"
   ]
  },
  {
   "cell_type": "code",
   "execution_count": 35,
   "id": "71935070-4968-41cf-97cd-c29f8f2e42d1",
   "metadata": {},
   "outputs": [
    {
     "data": {
      "text/plain": [
       "['business', 'entertainment', 'politics', 'sport', 'tech']"
      ]
     },
     "execution_count": 35,
     "metadata": {},
     "output_type": "execute_result"
    }
   ],
   "source": [
    "path=r'text\\bbc'\n",
    "\n",
    "# b_text_files=glob.glob(\"text\\\\bbc\\\\\")\n",
    "files=os.listdir(path)\n",
    "files"
   ]
  },
  {
   "cell_type": "code",
   "execution_count": 41,
   "id": "d9eeb76d-3e9d-4dc0-9e46-b838d117efac",
   "metadata": {},
   "outputs": [],
   "source": [
    "business_class=path+ '\\\\business'\n",
    "business_class_text_files=glob.glob(f'{business_class}\\\\*.txt')\n",
    "\n",
    "entertainment_class=path+'\\\\entertainment'\n",
    "entertainment_class_text_files=glob.glob(f'{entertainment_class}\\\\*.txt')\n",
    "\n",
    "politics_class=path+'\\\\politics'\n",
    "politics_class_text_files=glob.glob(f'{politics_class}\\\\*.txt')\n",
    "\n",
    "sport_class=path+'\\\\sport'\n",
    "sport_class_text_files=glob.glob(f'{sport_class}\\\\*.txt')\n",
    "\n",
    "tech_class=path+'\\\\tech'\n",
    "tech_class_text_files=glob.glob(f'{tech_class}\\\\*.txt')\n",
    "\n",
    "# business_class_text_files\n",
    "# entertainment_class_text_files"
   ]
  },
  {
   "cell_type": "code",
   "execution_count": 63,
   "id": "685f9e44-6386-45c8-95af-0864da97a8d4",
   "metadata": {},
   "outputs": [
    {
     "name": "stdout",
     "output_type": "stream",
     "text": [
      "2225\n",
      "2225\n"
     ]
    }
   ],
   "source": [
    "import re\n",
    "\n",
    "article=[]\n",
    "target=[]\n",
    "\n",
    "def text_list(file_path_list,class_name):\n",
    "\n",
    "    for file in file_path_list:\n",
    "        with open (file, 'r') as f:\n",
    "            text=f.read()\n",
    "            clean_text= re.sub('\\n',' ',text)\n",
    "            article.append(text)\n",
    "            target.append(class_name)\n",
    "            \n",
    "text_list(business_class_text_files,'business')\n",
    "text_list(entertainment_class_text_files,'entertainment')\n",
    "text_list(politics_class_text_files,'politics')\n",
    "text_list(sport_class_text_files,'sport')\n",
    "text_list(tech_class_text_files,'tech')\n",
    "\n",
    "print(len(article))\n",
    "print(len(target))"
   ]
  },
  {
   "cell_type": "code",
   "execution_count": 64,
   "id": "314d3a95-aec6-4ef7-b6dd-6698b0f27c7b",
   "metadata": {},
   "outputs": [
    {
     "name": "stdout",
     "output_type": "stream",
     "text": [
      "entertainment\n"
     ]
    }
   ],
   "source": [
    "print(target[510])"
   ]
  },
  {
   "cell_type": "code",
   "execution_count": 66,
   "id": "4dee754b-29d3-48c0-b6d1-8877771f1f13",
   "metadata": {},
   "outputs": [],
   "source": [
    "print(article[0])"
   ]
  },
  {
   "cell_type": "code",
   "execution_count": 59,
   "id": "1fff89d7-ed2a-4276-b20d-84699fe8ec15",
   "metadata": {},
   "outputs": [],
   "source": [
    "import pandas as pd\n",
    "d1={'text':article, 'class': target}\n",
    "df=pd.DataFrame(d1)"
   ]
  },
  {
   "cell_type": "code",
   "execution_count": 60,
   "id": "702570ff-9c0e-4841-b6b7-1391bb3aed61",
   "metadata": {},
   "outputs": [],
   "source": [
    "df.to_csv('sample.csv')"
   ]
  },
  {
   "cell_type": "code",
   "execution_count": 67,
   "id": "f79652d1-1f45-473b-9b64-1f5d60fdc44f",
   "metadata": {},
   "outputs": [
    {
     "data": {
      "text/plain": [
       "array(['business', 'entertainment', 'politics', 'sport', 'tech'],\n",
       "      dtype=object)"
      ]
     },
     "execution_count": 67,
     "metadata": {},
     "output_type": "execute_result"
    }
   ],
   "source": [
    "df['class'].unique()"
   ]
  },
  {
   "cell_type": "code",
   "execution_count": 68,
   "id": "4e02f0f2-a86c-4fba-8c8e-db25022aaa80",
   "metadata": {},
   "outputs": [
    {
     "data": {
      "text/plain": [
       "sport            511\n",
       "business         510\n",
       "politics         417\n",
       "tech             401\n",
       "entertainment    386\n",
       "Name: class, dtype: int64"
      ]
     },
     "execution_count": 68,
     "metadata": {},
     "output_type": "execute_result"
    }
   ],
   "source": [
    "df['class'].value_counts()"
   ]
  },
  {
   "cell_type": "code",
   "execution_count": 69,
   "id": "4c319908-2c80-4ea5-9f11-4c71588772d4",
   "metadata": {},
   "outputs": [
    {
     "data": {
      "text/plain": [
       "sport            22.966292\n",
       "business         22.921348\n",
       "politics         18.741573\n",
       "tech             18.022472\n",
       "entertainment    17.348315\n",
       "Name: class, dtype: float64"
      ]
     },
     "execution_count": 69,
     "metadata": {},
     "output_type": "execute_result"
    }
   ],
   "source": [
    "df['class'].value_counts()/len(df)*100"
   ]
  },
  {
   "cell_type": "code",
   "execution_count": 70,
   "id": "986dd664-82bc-4019-8759-0cc791a2d9bc",
   "metadata": {},
   "outputs": [
    {
     "name": "stdout",
     "output_type": "stream",
     "text": [
      "<class 'pandas.core.frame.DataFrame'>\n",
      "RangeIndex: 2225 entries, 0 to 2224\n",
      "Data columns (total 2 columns):\n",
      " #   Column  Non-Null Count  Dtype \n",
      "---  ------  --------------  ----- \n",
      " 0   text    2225 non-null   object\n",
      " 1   class   2225 non-null   object\n",
      "dtypes: object(2)\n",
      "memory usage: 34.9+ KB\n"
     ]
    }
   ],
   "source": [
    "df.info()"
   ]
  },
  {
   "cell_type": "code",
   "execution_count": 72,
   "id": "219e3637-2cba-4f28-b3b0-433803abd63f",
   "metadata": {},
   "outputs": [
    {
     "data": {
      "text/html": [
       "<div>\n",
       "<style scoped>\n",
       "    .dataframe tbody tr th:only-of-type {\n",
       "        vertical-align: middle;\n",
       "    }\n",
       "\n",
       "    .dataframe tbody tr th {\n",
       "        vertical-align: top;\n",
       "    }\n",
       "\n",
       "    .dataframe thead th {\n",
       "        text-align: right;\n",
       "    }\n",
       "</style>\n",
       "<table border=\"1\" class=\"dataframe\">\n",
       "  <thead>\n",
       "    <tr style=\"text-align: right;\">\n",
       "      <th></th>\n",
       "      <th>text</th>\n",
       "      <th>class</th>\n",
       "    </tr>\n",
       "  </thead>\n",
       "  <tbody>\n",
       "    <tr>\n",
       "      <th>0</th>\n",
       "      <td>Ad sales boost Time Warner profit\\n\\nQuarterly...</td>\n",
       "      <td>0</td>\n",
       "    </tr>\n",
       "    <tr>\n",
       "      <th>1</th>\n",
       "      <td>Dollar gains on Greenspan speech\\n\\nThe dollar...</td>\n",
       "      <td>0</td>\n",
       "    </tr>\n",
       "    <tr>\n",
       "      <th>2</th>\n",
       "      <td>Yukos unit buyer faces loan claim\\n\\nThe owner...</td>\n",
       "      <td>0</td>\n",
       "    </tr>\n",
       "    <tr>\n",
       "      <th>3</th>\n",
       "      <td>High fuel prices hit BA's profits\\n\\nBritish A...</td>\n",
       "      <td>0</td>\n",
       "    </tr>\n",
       "    <tr>\n",
       "      <th>4</th>\n",
       "      <td>Pernod takeover talk lifts Domecq\\n\\nShares in...</td>\n",
       "      <td>0</td>\n",
       "    </tr>\n",
       "    <tr>\n",
       "      <th>...</th>\n",
       "      <td>...</td>\n",
       "      <td>...</td>\n",
       "    </tr>\n",
       "    <tr>\n",
       "      <th>2220</th>\n",
       "      <td>BT program to beat dialler scams\\n\\nBT is intr...</td>\n",
       "      <td>4</td>\n",
       "    </tr>\n",
       "    <tr>\n",
       "      <th>2221</th>\n",
       "      <td>Spam e-mails tempt net shoppers\\n\\nComputer us...</td>\n",
       "      <td>4</td>\n",
       "    </tr>\n",
       "    <tr>\n",
       "      <th>2222</th>\n",
       "      <td>Be careful how you code\\n\\nA new European dire...</td>\n",
       "      <td>4</td>\n",
       "    </tr>\n",
       "    <tr>\n",
       "      <th>2223</th>\n",
       "      <td>US cyber security chief resigns\\n\\nThe man mak...</td>\n",
       "      <td>4</td>\n",
       "    </tr>\n",
       "    <tr>\n",
       "      <th>2224</th>\n",
       "      <td>Losing yourself in online gaming\\n\\nOnline rol...</td>\n",
       "      <td>4</td>\n",
       "    </tr>\n",
       "  </tbody>\n",
       "</table>\n",
       "<p>2225 rows × 2 columns</p>\n",
       "</div>"
      ],
      "text/plain": [
       "                                                   text  class\n",
       "0     Ad sales boost Time Warner profit\\n\\nQuarterly...      0\n",
       "1     Dollar gains on Greenspan speech\\n\\nThe dollar...      0\n",
       "2     Yukos unit buyer faces loan claim\\n\\nThe owner...      0\n",
       "3     High fuel prices hit BA's profits\\n\\nBritish A...      0\n",
       "4     Pernod takeover talk lifts Domecq\\n\\nShares in...      0\n",
       "...                                                 ...    ...\n",
       "2220  BT program to beat dialler scams\\n\\nBT is intr...      4\n",
       "2221  Spam e-mails tempt net shoppers\\n\\nComputer us...      4\n",
       "2222  Be careful how you code\\n\\nA new European dire...      4\n",
       "2223  US cyber security chief resigns\\n\\nThe man mak...      4\n",
       "2224  Losing yourself in online gaming\\n\\nOnline rol...      4\n",
       "\n",
       "[2225 rows x 2 columns]"
      ]
     },
     "execution_count": 72,
     "metadata": {},
     "output_type": "execute_result"
    }
   ],
   "source": [
    "from sklearn.preprocessing import LabelEncoder \n",
    "le=LabelEncoder()\n",
    "df['class']=le.fit_transform(df['class'])\n",
    "df"
   ]
  },
  {
   "cell_type": "code",
   "execution_count": 76,
   "id": "21ffdcec-5964-4156-bd7a-88e58a6674fd",
   "metadata": {},
   "outputs": [],
   "source": [
    "from sklearn.feature_extraction.text import CountVectorizer, TfidfVectorizer\n",
    "from sklearn.model_selection import train_test_split"
   ]
  },
  {
   "cell_type": "code",
   "execution_count": null,
   "id": "0f563b03-2778-4df7-8045-ef5af44f381c",
   "metadata": {},
   "outputs": [],
   "source": [
    "x=df['text']\n",
    "y=df['class']\n",
    "\n",
    "count_vec=CountVectorizer(analyzer='word', stop_words='english')\n",
    "count_vec_x=count_vec.fit_transform(x)\n",
    "cv_x_train,cv_x_test,cv_y_train, cv_y_test=train_test_split(count_vec_x,y, test_size=0.25, random_state=123, stratify=y)\n",
    "\n",
    "tfidf_vec=TfidfVectorizer(analyzer='word', min_df=0.05)\n",
    "tfidf_vec_x=tfidf_vec.fit_transform(x)\n",
    "tfidf_x_train,tfidf_x_test,tfidf_y_train, tfidf_y_test=train_test_split(tfidf_vec_x,y, test_size=0.25, random_state=123, stratify=y)\n",
    "\n",
    "tfidf_vec=TfidfVectorizer(analyzer='word', ngram_range=(2,3) , min_df=0.05)\n",
    "tfidf_ngram_vec_x=tfidf_vec.fit_transform(x)\n",
    "tfidfngram_x_train,tfidfngram_x_test,tfidfngram_y_train, tfidfngram_y_test=train_test_split(tfidf_ngram_vec_x,y, test_size=0.25, random_state=123, stratify=y)\n"
   ]
  },
  {
   "cell_type": "code",
   "execution_count": null,
   "id": "9cc82578-90f6-4fa3-866e-972431692a3b",
   "metadata": {},
   "outputs": [],
   "source": []
  },
  {
   "cell_type": "code",
   "execution_count": null,
   "id": "6c47af65-6ca5-43ce-a580-253d2b8f279c",
   "metadata": {},
   "outputs": [],
   "source": []
  },
  {
   "cell_type": "code",
   "execution_count": null,
   "id": "3d2abf4f-9f59-4efb-ac52-fff3d3d1638b",
   "metadata": {},
   "outputs": [],
   "source": []
  },
  {
   "cell_type": "code",
   "execution_count": null,
   "id": "c2a7aee4-596b-4676-8869-da70c58fbc98",
   "metadata": {},
   "outputs": [],
   "source": []
  },
  {
   "cell_type": "code",
   "execution_count": null,
   "id": "7bccfd76-8beb-46af-8e27-197949ee5077",
   "metadata": {},
   "outputs": [],
   "source": []
  },
  {
   "cell_type": "code",
   "execution_count": null,
   "id": "9aa16962-d6dd-466a-bc51-e750c9d42e6f",
   "metadata": {},
   "outputs": [],
   "source": []
  },
  {
   "cell_type": "code",
   "execution_count": null,
   "id": "a4e19893-c263-47c0-af4e-9d3ce9f6d151",
   "metadata": {},
   "outputs": [],
   "source": []
  },
  {
   "cell_type": "code",
   "execution_count": null,
   "id": "cbf0cc03-7de9-4298-ade9-9b540b65d30a",
   "metadata": {},
   "outputs": [],
   "source": []
  },
  {
   "cell_type": "code",
   "execution_count": null,
   "id": "b6711b7f-8fbe-4681-b1c4-1dc8a43ec0e2",
   "metadata": {},
   "outputs": [],
   "source": []
  },
  {
   "cell_type": "code",
   "execution_count": null,
   "id": "f4b4c961-948e-4cf3-a9a9-1706d793996b",
   "metadata": {},
   "outputs": [],
   "source": []
  },
  {
   "cell_type": "code",
   "execution_count": null,
   "id": "fe41ee22-ccb8-476c-98b7-baa793ea9480",
   "metadata": {},
   "outputs": [],
   "source": []
  },
  {
   "cell_type": "code",
   "execution_count": null,
   "id": "c2094398-f706-4635-8fb8-dc0e63d8f771",
   "metadata": {},
   "outputs": [],
   "source": []
  },
  {
   "cell_type": "code",
   "execution_count": null,
   "id": "112521c7-1606-4189-b412-e5d8d56e68f2",
   "metadata": {},
   "outputs": [],
   "source": []
  },
  {
   "cell_type": "code",
   "execution_count": null,
   "id": "01a0f1f8-8c3e-437c-b08f-1195293c5ae4",
   "metadata": {},
   "outputs": [],
   "source": []
  },
  {
   "cell_type": "code",
   "execution_count": null,
   "id": "c42204aa-d91b-447a-9ee3-ae2c08160319",
   "metadata": {},
   "outputs": [],
   "source": []
  }
 ],
 "metadata": {
  "kernelspec": {
   "display_name": "myenv",
   "language": "python",
   "name": "myenv"
  },
  "language_info": {
   "codemirror_mode": {
    "name": "ipython",
    "version": 3
   },
   "file_extension": ".py",
   "mimetype": "text/x-python",
   "name": "python",
   "nbconvert_exporter": "python",
   "pygments_lexer": "ipython3",
   "version": "3.10.6"
  }
 },
 "nbformat": 4,
 "nbformat_minor": 5
}
