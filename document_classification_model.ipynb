{
 "cells": [
  {
   "cell_type": "code",
   "execution_count": 1,
   "id": "9353fe03-a089-4400-b379-0806b0a5b854",
   "metadata": {},
   "outputs": [
    {
     "name": "stdout",
     "output_type": "stream",
     "text": [
      "Python 3.9.5\n"
     ]
    }
   ],
   "source": [
    "!python --version"
   ]
  },
  {
   "cell_type": "code",
   "execution_count": 2,
   "id": "7e8002b2-86eb-4f83-a314-43f81b65d79c",
   "metadata": {},
   "outputs": [],
   "source": [
    "from platform import  python_version"
   ]
  },
  {
   "cell_type": "code",
   "execution_count": 3,
   "id": "fa98d456-9eae-48ae-ac2b-68d0ddd633c2",
   "metadata": {},
   "outputs": [
    {
     "data": {
      "text/plain": [
       "'3.10.6'"
      ]
     },
     "execution_count": 3,
     "metadata": {},
     "output_type": "execute_result"
    }
   ],
   "source": [
    "python_version()"
   ]
  },
  {
   "cell_type": "code",
   "execution_count": 4,
   "id": "4219eab1-aaf9-45e8-9b75-e2aa3905e4a7",
   "metadata": {},
   "outputs": [],
   "source": [
    "import os\n",
    "import glob"
   ]
  },
  {
   "cell_type": "code",
   "execution_count": 5,
   "id": "ce31c73c-7aae-40f9-a1a9-f592f7460868",
   "metadata": {},
   "outputs": [
    {
     "data": {
      "text/plain": [
       "['business', 'entertainment', 'politics', 'sport', 'tech']"
      ]
     },
     "execution_count": 5,
     "metadata": {},
     "output_type": "execute_result"
    }
   ],
   "source": [
    "path=r'text\\bbc'\n",
    "\n",
    "# b_text_files=glob.glob(\"\")\n",
    "files=os.listdir(path)\n",
    "files"
   ]
  },
  {
   "cell_type": "code",
   "execution_count": 6,
   "id": "7115e320-1eae-4b4a-9e87-70b79e17f643",
   "metadata": {},
   "outputs": [
    {
     "data": {
      "text/plain": [
       "2225"
      ]
     },
     "execution_count": 6,
     "metadata": {},
     "output_type": "execute_result"
    }
   ],
   "source": [
    "artical_list=[]\n",
    "for file in files:\n",
    "    text_files=glob.glob(f\"{path}\\{file}\\\\*.txt\")\n",
    "    # print(text_files)\n",
    "    for text_file in text_files:\n",
    "        with open(text_file) as f:\n",
    "            text=f.read()\n",
    "            artical_list.append(text)\n",
    "\n",
    "len(artical_list)"
   ]
  },
  {
   "cell_type": "code",
   "execution_count": 7,
   "id": "71935070-4968-41cf-97cd-c29f8f2e42d1",
   "metadata": {},
   "outputs": [
    {
     "data": {
      "text/plain": [
       "['business', 'entertainment', 'politics', 'sport', 'tech']"
      ]
     },
     "execution_count": 7,
     "metadata": {},
     "output_type": "execute_result"
    }
   ],
   "source": [
    "path=r'text\\bbc'\n",
    "\n",
    "# b_text_files=glob.glob(\"text\\\\bbc\\\\\")\n",
    "files=os.listdir(path)\n",
    "files"
   ]
  },
  {
   "cell_type": "code",
   "execution_count": 8,
   "id": "d9eeb76d-3e9d-4dc0-9e46-b838d117efac",
   "metadata": {},
   "outputs": [],
   "source": [
    "business_class=path+ '\\\\business'\n",
    "business_class_text_files=glob.glob(f'{business_class}\\\\*.txt')\n",
    "\n",
    "entertainment_class=path+'\\\\entertainment'\n",
    "entertainment_class_text_files=glob.glob(f'{entertainment_class}\\\\*.txt')\n",
    "\n",
    "politics_class=path+'\\\\politics'\n",
    "politics_class_text_files=glob.glob(f'{politics_class}\\\\*.txt')\n",
    "\n",
    "sport_class=path+'\\\\sport'\n",
    "sport_class_text_files=glob.glob(f'{sport_class}\\\\*.txt')\n",
    "\n",
    "tech_class=path+'\\\\tech'\n",
    "tech_class_text_files=glob.glob(f'{tech_class}\\\\*.txt')\n",
    "\n",
    "# business_class_text_files\n",
    "# entertainment_class_text_files"
   ]
  },
  {
   "cell_type": "code",
   "execution_count": 9,
   "id": "685f9e44-6386-45c8-95af-0864da97a8d4",
   "metadata": {},
   "outputs": [
    {
     "name": "stdout",
     "output_type": "stream",
     "text": [
      "2225\n",
      "2225\n"
     ]
    }
   ],
   "source": [
    "import re\n",
    "\n",
    "article=[]\n",
    "target=[]\n",
    "\n",
    "def text_list(file_path_list,class_name):\n",
    "\n",
    "    for file in file_path_list:\n",
    "        with open (file, 'r') as f:\n",
    "            text=f.read()\n",
    "            clean_text= re.sub('\\n',' ',text)\n",
    "            article.append(text)\n",
    "            target.append(class_name)\n",
    "            \n",
    "text_list(business_class_text_files,'business')\n",
    "text_list(entertainment_class_text_files,'entertainment')\n",
    "text_list(politics_class_text_files,'politics')\n",
    "text_list(sport_class_text_files,'sport')\n",
    "text_list(tech_class_text_files,'tech')\n",
    "\n",
    "print(len(article))\n",
    "print(len(target))"
   ]
  },
  {
   "cell_type": "code",
   "execution_count": 10,
   "id": "314d3a95-aec6-4ef7-b6dd-6698b0f27c7b",
   "metadata": {},
   "outputs": [
    {
     "name": "stdout",
     "output_type": "stream",
     "text": [
      "entertainment\n"
     ]
    }
   ],
   "source": [
    "print(target[510])"
   ]
  },
  {
   "cell_type": "code",
   "execution_count": 11,
   "id": "4dee754b-29d3-48c0-b6d1-8877771f1f13",
   "metadata": {},
   "outputs": [
    {
     "name": "stdout",
     "output_type": "stream",
     "text": [
      "Ad sales boost Time Warner profit\n",
      "\n",
      "Quarterly profits at US media giant TimeWarner jumped 76% to $1.13bn (Â£600m) for the three months to December, from $639m year-earlier.\n",
      "\n",
      "The firm, which is now one of the biggest investors in Google, benefited from sales of high-speed internet connections and higher advert sales. TimeWarner said fourth quarter sales rose 2% to $11.1bn from $10.9bn. Its profits were buoyed by one-off gains which offset a profit dip at Warner Bros, and less users for AOL.\n",
      "\n",
      "Time Warner said on Friday that it now owns 8% of search-engine Google. But its own internet business, AOL, had has mixed fortunes. It lost 464,000 subscribers in the fourth quarter profits were lower than in the preceding three quarters. However, the company said AOL's underlying profit before exceptional items rose 8% on the back of stronger internet advertising revenues. It hopes to increase subscribers by offering the online service free to TimeWarner internet customers and will try to sign up AOL's existing customers for high-speed broadband. TimeWarner also has to restate 2000 and 2003 results following a probe by the US Securities Exchange Commission (SEC), which is close to concluding.\n",
      "\n",
      "Time Warner's fourth quarter profits were slightly better than analysts' expectations. But its film division saw profits slump 27% to $284m, helped by box-office flops Alexander and Catwoman, a sharp contrast to year-earlier, when the third and final film in the Lord of the Rings trilogy boosted results. For the full-year, TimeWarner posted a profit of $3.36bn, up 27% from its 2003 performance, while revenues grew 6.4% to $42.09bn. \"Our financial performance was strong, meeting or exceeding all of our full-year objectives and greatly enhancing our flexibility,\" chairman and chief executive Richard Parsons said. For 2005, TimeWarner is projecting operating earnings growth of around 5%, and also expects higher revenue and wider profit margins.\n",
      "\n",
      "TimeWarner is to restate its accounts as part of efforts to resolve an inquiry into AOL by US market regulators. It has already offered to pay $300m to settle charges, in a deal that is under review by the SEC. The company said it was unable to estimate the amount it needed to set aside for legal reserves, which it previously set at $500m. It intends to adjust the way it accounts for a deal with German music publisher Bertelsmann's purchase of a stake in AOL Europe, which it had reported as advertising revenue. It will now book the sale of its stake in AOL Europe as a loss on the value of that stake.\n",
      "\n"
     ]
    }
   ],
   "source": [
    "print(article[0])"
   ]
  },
  {
   "cell_type": "code",
   "execution_count": 12,
   "id": "1fff89d7-ed2a-4276-b20d-84699fe8ec15",
   "metadata": {},
   "outputs": [],
   "source": [
    "import pandas as pd\n",
    "d1={'text':article, 'class': target}\n",
    "df=pd.DataFrame(d1)"
   ]
  },
  {
   "cell_type": "code",
   "execution_count": 13,
   "id": "702570ff-9c0e-4841-b6b7-1391bb3aed61",
   "metadata": {},
   "outputs": [],
   "source": [
    "df.to_csv('sample.csv')"
   ]
  },
  {
   "cell_type": "code",
   "execution_count": 14,
   "id": "f79652d1-1f45-473b-9b64-1f5d60fdc44f",
   "metadata": {},
   "outputs": [
    {
     "data": {
      "text/plain": [
       "array(['business', 'entertainment', 'politics', 'sport', 'tech'],\n",
       "      dtype=object)"
      ]
     },
     "execution_count": 14,
     "metadata": {},
     "output_type": "execute_result"
    }
   ],
   "source": [
    "df['class'].unique()"
   ]
  },
  {
   "cell_type": "code",
   "execution_count": 15,
   "id": "4e02f0f2-a86c-4fba-8c8e-db25022aaa80",
   "metadata": {},
   "outputs": [
    {
     "data": {
      "text/plain": [
       "sport            511\n",
       "business         510\n",
       "politics         417\n",
       "tech             401\n",
       "entertainment    386\n",
       "Name: class, dtype: int64"
      ]
     },
     "execution_count": 15,
     "metadata": {},
     "output_type": "execute_result"
    }
   ],
   "source": [
    "df['class'].value_counts()"
   ]
  },
  {
   "cell_type": "code",
   "execution_count": 16,
   "id": "4c319908-2c80-4ea5-9f11-4c71588772d4",
   "metadata": {},
   "outputs": [
    {
     "data": {
      "text/plain": [
       "sport            22.966292\n",
       "business         22.921348\n",
       "politics         18.741573\n",
       "tech             18.022472\n",
       "entertainment    17.348315\n",
       "Name: class, dtype: float64"
      ]
     },
     "execution_count": 16,
     "metadata": {},
     "output_type": "execute_result"
    }
   ],
   "source": [
    "df['class'].value_counts()/len(df)*100"
   ]
  },
  {
   "cell_type": "code",
   "execution_count": 17,
   "id": "986dd664-82bc-4019-8759-0cc791a2d9bc",
   "metadata": {},
   "outputs": [
    {
     "name": "stdout",
     "output_type": "stream",
     "text": [
      "<class 'pandas.core.frame.DataFrame'>\n",
      "RangeIndex: 2225 entries, 0 to 2224\n",
      "Data columns (total 2 columns):\n",
      " #   Column  Non-Null Count  Dtype \n",
      "---  ------  --------------  ----- \n",
      " 0   text    2225 non-null   object\n",
      " 1   class   2225 non-null   object\n",
      "dtypes: object(2)\n",
      "memory usage: 34.9+ KB\n"
     ]
    }
   ],
   "source": [
    "df.info()"
   ]
  },
  {
   "cell_type": "code",
   "execution_count": 18,
   "id": "219e3637-2cba-4f28-b3b0-433803abd63f",
   "metadata": {},
   "outputs": [
    {
     "data": {
      "text/html": [
       "<div>\n",
       "<style scoped>\n",
       "    .dataframe tbody tr th:only-of-type {\n",
       "        vertical-align: middle;\n",
       "    }\n",
       "\n",
       "    .dataframe tbody tr th {\n",
       "        vertical-align: top;\n",
       "    }\n",
       "\n",
       "    .dataframe thead th {\n",
       "        text-align: right;\n",
       "    }\n",
       "</style>\n",
       "<table border=\"1\" class=\"dataframe\">\n",
       "  <thead>\n",
       "    <tr style=\"text-align: right;\">\n",
       "      <th></th>\n",
       "      <th>text</th>\n",
       "      <th>class</th>\n",
       "    </tr>\n",
       "  </thead>\n",
       "  <tbody>\n",
       "    <tr>\n",
       "      <th>0</th>\n",
       "      <td>Ad sales boost Time Warner profit\\n\\nQuarterly...</td>\n",
       "      <td>0</td>\n",
       "    </tr>\n",
       "    <tr>\n",
       "      <th>1</th>\n",
       "      <td>Dollar gains on Greenspan speech\\n\\nThe dollar...</td>\n",
       "      <td>0</td>\n",
       "    </tr>\n",
       "    <tr>\n",
       "      <th>2</th>\n",
       "      <td>Yukos unit buyer faces loan claim\\n\\nThe owner...</td>\n",
       "      <td>0</td>\n",
       "    </tr>\n",
       "    <tr>\n",
       "      <th>3</th>\n",
       "      <td>High fuel prices hit BA's profits\\n\\nBritish A...</td>\n",
       "      <td>0</td>\n",
       "    </tr>\n",
       "    <tr>\n",
       "      <th>4</th>\n",
       "      <td>Pernod takeover talk lifts Domecq\\n\\nShares in...</td>\n",
       "      <td>0</td>\n",
       "    </tr>\n",
       "    <tr>\n",
       "      <th>...</th>\n",
       "      <td>...</td>\n",
       "      <td>...</td>\n",
       "    </tr>\n",
       "    <tr>\n",
       "      <th>2220</th>\n",
       "      <td>BT program to beat dialler scams\\n\\nBT is intr...</td>\n",
       "      <td>4</td>\n",
       "    </tr>\n",
       "    <tr>\n",
       "      <th>2221</th>\n",
       "      <td>Spam e-mails tempt net shoppers\\n\\nComputer us...</td>\n",
       "      <td>4</td>\n",
       "    </tr>\n",
       "    <tr>\n",
       "      <th>2222</th>\n",
       "      <td>Be careful how you code\\n\\nA new European dire...</td>\n",
       "      <td>4</td>\n",
       "    </tr>\n",
       "    <tr>\n",
       "      <th>2223</th>\n",
       "      <td>US cyber security chief resigns\\n\\nThe man mak...</td>\n",
       "      <td>4</td>\n",
       "    </tr>\n",
       "    <tr>\n",
       "      <th>2224</th>\n",
       "      <td>Losing yourself in online gaming\\n\\nOnline rol...</td>\n",
       "      <td>4</td>\n",
       "    </tr>\n",
       "  </tbody>\n",
       "</table>\n",
       "<p>2225 rows × 2 columns</p>\n",
       "</div>"
      ],
      "text/plain": [
       "                                                   text  class\n",
       "0     Ad sales boost Time Warner profit\\n\\nQuarterly...      0\n",
       "1     Dollar gains on Greenspan speech\\n\\nThe dollar...      0\n",
       "2     Yukos unit buyer faces loan claim\\n\\nThe owner...      0\n",
       "3     High fuel prices hit BA's profits\\n\\nBritish A...      0\n",
       "4     Pernod takeover talk lifts Domecq\\n\\nShares in...      0\n",
       "...                                                 ...    ...\n",
       "2220  BT program to beat dialler scams\\n\\nBT is intr...      4\n",
       "2221  Spam e-mails tempt net shoppers\\n\\nComputer us...      4\n",
       "2222  Be careful how you code\\n\\nA new European dire...      4\n",
       "2223  US cyber security chief resigns\\n\\nThe man mak...      4\n",
       "2224  Losing yourself in online gaming\\n\\nOnline rol...      4\n",
       "\n",
       "[2225 rows x 2 columns]"
      ]
     },
     "execution_count": 18,
     "metadata": {},
     "output_type": "execute_result"
    }
   ],
   "source": [
    "from sklearn.preprocessing import LabelEncoder \n",
    "le=LabelEncoder()\n",
    "df['class']=le.fit_transform(df['class'])\n",
    "df"
   ]
  },
  {
   "cell_type": "code",
   "execution_count": 19,
   "id": "21ffdcec-5964-4156-bd7a-88e58a6674fd",
   "metadata": {},
   "outputs": [],
   "source": [
    "from sklearn.feature_extraction.text import CountVectorizer, TfidfVectorizer\n",
    "from sklearn.model_selection import train_test_split"
   ]
  },
  {
   "cell_type": "code",
   "execution_count": 20,
   "id": "0f563b03-2778-4df7-8045-ef5af44f381c",
   "metadata": {},
   "outputs": [
    {
     "name": "stdout",
     "output_type": "stream",
     "text": [
      "(1668, 29126) (557, 29126) (1668,) (557,)\n",
      "(1668, 708) (557, 708) (1668,) (557,)\n",
      "(1668, 288) (557, 288) (1668,) (557,)\n"
     ]
    }
   ],
   "source": [
    "x=df['text']\n",
    "y=df['class']\n",
    "\n",
    "count_vec=CountVectorizer(analyzer='word', stop_words='english')\n",
    "count_vec_x=count_vec.fit_transform(x)\n",
    "cv_x_train,cv_x_test,cv_y_train, cv_y_test=train_test_split(count_vec_x,y, test_size=0.25, random_state=123, stratify=y)\n",
    "print(cv_x_train.shape, cv_x_test.shape, cv_y_train.shape, cv_y_test.shape)\n",
    "\n",
    "tfidf_vec=TfidfVectorizer(analyzer='word', min_df=0.05)\n",
    "tfidf_vec_x=tfidf_vec.fit_transform(x)\n",
    "tfidf_x_train,tfidf_x_test,tfidf_y_train, tfidf_y_test=train_test_split(tfidf_vec_x,y, test_size=0.25, random_state=123, stratify=y)\n",
    "print(tfidf_x_train.shape,tfidf_x_test.shape, tfidf_y_train.shape, tfidf_y_test.shape)\n",
    "\n",
    "tfidf_vec=TfidfVectorizer(analyzer='word', ngram_range=(2,3) , min_df=0.05)\n",
    "tfidf_ngram_vec_x=tfidf_vec.fit_transform(x)\n",
    "tfidfngram_x_train,tfidfngram_x_test,tfidfngram_y_train, tfidfngram_y_test=train_test_split(tfidf_ngram_vec_x,y, test_size=0.25, random_state=123, stratify=y)\n",
    "print(tfidfngram_x_train.shape, tfidfngram_x_test.shape, tfidfngram_y_train.shape, tfidfngram_y_test.shape)"
   ]
  },
  {
   "cell_type": "code",
   "execution_count": 21,
   "id": "9cc82578-90f6-4fa3-866e-972431692a3b",
   "metadata": {},
   "outputs": [],
   "source": [
    "from sklearn.metrics import accuracy_score, confusion_matrix, classification_report\n",
    "\n",
    "def train_model(model_name, x_train, x_test, y_train, y_test):\n",
    "    model_name.fit(x_train, y_train)\n",
    "    prediction= model_name.predict(x_test)\n",
    "    \n",
    "    acc_score= accuracy_score(y_test,prediction)\n",
    "    cnf_metrix=confusion_matrix(y_test,prediction)\n",
    "    cls_report=classification_report(y_test,prediction)\n",
    "    \n",
    "    print(f'Accuracy Score= {acc_score}')\n",
    "    print(f'Confusion Metrix= \\n {cnf_metrix}')    \n",
    "    print(f'Classification Report= \\n {cls_report}')    \n",
    "    \n",
    "    return 'Success'"
   ]
  },
  {
   "cell_type": "code",
   "execution_count": 22,
   "id": "6c47af65-6ca5-43ce-a580-253d2b8f279c",
   "metadata": {},
   "outputs": [
    {
     "name": "stdout",
     "output_type": "stream",
     "text": [
      "Accuracy Score= 0.9748653500897666\n",
      "Confusion Metrix= \n",
      " [[126   1   0   0   1]\n",
      " [  0  90   3   0   4]\n",
      " [  1   0 101   0   2]\n",
      " [  0   0   0 128   0]\n",
      " [  0   1   1   0  98]]\n",
      "Classification Report= \n",
      "               precision    recall  f1-score   support\n",
      "\n",
      "           0       0.99      0.98      0.99       128\n",
      "           1       0.98      0.93      0.95        97\n",
      "           2       0.96      0.97      0.97       104\n",
      "           3       1.00      1.00      1.00       128\n",
      "           4       0.93      0.98      0.96       100\n",
      "\n",
      "    accuracy                           0.97       557\n",
      "   macro avg       0.97      0.97      0.97       557\n",
      "weighted avg       0.98      0.97      0.97       557\n",
      "\n",
      "Accuracy Score= 0.9425493716337523\n",
      "Confusion Metrix= \n",
      " [[126   0   0   1   1]\n",
      " [  0  86   3   0   8]\n",
      " [  3   2  95   0   4]\n",
      " [  0   1   2 125   0]\n",
      " [  3   4   0   0  93]]\n",
      "Classification Report= \n",
      "               precision    recall  f1-score   support\n",
      "\n",
      "           0       0.95      0.98      0.97       128\n",
      "           1       0.92      0.89      0.91        97\n",
      "           2       0.95      0.91      0.93       104\n",
      "           3       0.99      0.98      0.98       128\n",
      "           4       0.88      0.93      0.90       100\n",
      "\n",
      "    accuracy                           0.94       557\n",
      "   macro avg       0.94      0.94      0.94       557\n",
      "weighted avg       0.94      0.94      0.94       557\n",
      "\n",
      "Accuracy Score= 0.7863554757630161\n",
      "Confusion Metrix= \n",
      " [[111   4   7   2   4]\n",
      " [ 12  56   5  16   8]\n",
      " [  6   3  83   8   4]\n",
      " [  1   5   3 119   0]\n",
      " [ 22   5   0   4  69]]\n",
      "Classification Report= \n",
      "               precision    recall  f1-score   support\n",
      "\n",
      "           0       0.73      0.87      0.79       128\n",
      "           1       0.77      0.58      0.66        97\n",
      "           2       0.85      0.80      0.82       104\n",
      "           3       0.80      0.93      0.86       128\n",
      "           4       0.81      0.69      0.75       100\n",
      "\n",
      "    accuracy                           0.79       557\n",
      "   macro avg       0.79      0.77      0.78       557\n",
      "weighted avg       0.79      0.79      0.78       557\n",
      "\n"
     ]
    },
    {
     "data": {
      "text/plain": [
       "'Success'"
      ]
     },
     "execution_count": 22,
     "metadata": {},
     "output_type": "execute_result"
    }
   ],
   "source": [
    "from sklearn.naive_bayes import MultinomialNB\n",
    "\n",
    "nb_model= MultinomialNB()\n",
    "\n",
    "train_model(nb_model, cv_x_train,cv_x_test,cv_y_train, cv_y_test)\n",
    "train_model(nb_model, tfidf_x_train,tfidf_x_test,tfidf_y_train, tfidf_y_test )\n",
    "train_model(nb_model, tfidfngram_x_train,tfidfngram_x_test,tfidfngram_y_train, tfidfngram_y_test)\n",
    "\n"
   ]
  },
  {
   "cell_type": "code",
   "execution_count": 25,
   "id": "3d2abf4f-9f59-4efb-ac52-fff3d3d1638b",
   "metadata": {},
   "outputs": [],
   "source": [
    "from sklearn.linear_model import LogisticRegression\n",
    "model= LogisticRegression(max_iter=500)"
   ]
  },
  {
   "cell_type": "code",
   "execution_count": 26,
   "id": "c2a7aee4-596b-4676-8869-da70c58fbc98",
   "metadata": {},
   "outputs": [
    {
     "name": "stdout",
     "output_type": "stream",
     "text": [
      "Accuracy Score= 0.9748653500897666\n",
      "Confusion Metrix= \n",
      " [[127   1   0   0   0]\n",
      " [  0  92   3   0   2]\n",
      " [  3   0  98   1   2]\n",
      " [  0   0   0 128   0]\n",
      " [  1   1   0   0  98]]\n",
      "Classification Report= \n",
      "               precision    recall  f1-score   support\n",
      "\n",
      "           0       0.97      0.99      0.98       128\n",
      "           1       0.98      0.95      0.96        97\n",
      "           2       0.97      0.94      0.96       104\n",
      "           3       0.99      1.00      1.00       128\n",
      "           4       0.96      0.98      0.97       100\n",
      "\n",
      "    accuracy                           0.97       557\n",
      "   macro avg       0.97      0.97      0.97       557\n",
      "weighted avg       0.97      0.97      0.97       557\n",
      "\n",
      "Accuracy Score= 0.9533213644524237\n",
      "Confusion Metrix= \n",
      " [[124   1   1   1   1]\n",
      " [  1  90   2   0   4]\n",
      " [  3   1  96   1   3]\n",
      " [  0   1   0 127   0]\n",
      " [  2   4   0   0  94]]\n",
      "Classification Report= \n",
      "               precision    recall  f1-score   support\n",
      "\n",
      "           0       0.95      0.97      0.96       128\n",
      "           1       0.93      0.93      0.93        97\n",
      "           2       0.97      0.92      0.95       104\n",
      "           3       0.98      0.99      0.99       128\n",
      "           4       0.92      0.94      0.93       100\n",
      "\n",
      "    accuracy                           0.95       557\n",
      "   macro avg       0.95      0.95      0.95       557\n",
      "weighted avg       0.95      0.95      0.95       557\n",
      "\n",
      "Accuracy Score= 0.8043087971274686\n",
      "Confusion Metrix= \n",
      " [[110   9   5   1   3]\n",
      " [  8  65   3  14   7]\n",
      " [  5   9  79   4   7]\n",
      " [  2   8   3 115   0]\n",
      " [ 16   4   0   1  79]]\n",
      "Classification Report= \n",
      "               precision    recall  f1-score   support\n",
      "\n",
      "           0       0.78      0.86      0.82       128\n",
      "           1       0.68      0.67      0.68        97\n",
      "           2       0.88      0.76      0.81       104\n",
      "           3       0.85      0.90      0.87       128\n",
      "           4       0.82      0.79      0.81       100\n",
      "\n",
      "    accuracy                           0.80       557\n",
      "   macro avg       0.80      0.80      0.80       557\n",
      "weighted avg       0.81      0.80      0.80       557\n",
      "\n"
     ]
    },
    {
     "data": {
      "text/plain": [
       "'Success'"
      ]
     },
     "execution_count": 26,
     "metadata": {},
     "output_type": "execute_result"
    }
   ],
   "source": [
    "train_model(model, cv_x_train,cv_x_test,cv_y_train, cv_y_test)\n",
    "train_model(model, tfidf_x_train,tfidf_x_test,tfidf_y_train, tfidf_y_test )\n",
    "train_model(model, tfidfngram_x_train,tfidfngram_x_test,tfidfngram_y_train, tfidfngram_y_test)\n"
   ]
  },
  {
   "cell_type": "code",
   "execution_count": 27,
   "id": "7bccfd76-8beb-46af-8e27-197949ee5077",
   "metadata": {},
   "outputs": [],
   "source": [
    "from sklearn.ensemble import RandomForestClassifier"
   ]
  },
  {
   "cell_type": "code",
   "execution_count": 28,
   "id": "9aa16962-d6dd-466a-bc51-e750c9d42e6f",
   "metadata": {},
   "outputs": [],
   "source": [
    "rf_model=RandomForestClassifier()"
   ]
  },
  {
   "cell_type": "code",
   "execution_count": 29,
   "id": "a4e19893-c263-47c0-af4e-9d3ce9f6d151",
   "metadata": {},
   "outputs": [
    {
     "name": "stdout",
     "output_type": "stream",
     "text": [
      "Accuracy Score= 0.9622980251346499\n",
      "Confusion Metrix= \n",
      " [[127   0   0   1   0]\n",
      " [  3  91   2   0   1]\n",
      " [  4   0  98   0   2]\n",
      " [  0   0   1 127   0]\n",
      " [  2   2   0   3  93]]\n",
      "Classification Report= \n",
      "               precision    recall  f1-score   support\n",
      "\n",
      "           0       0.93      0.99      0.96       128\n",
      "           1       0.98      0.94      0.96        97\n",
      "           2       0.97      0.94      0.96       104\n",
      "           3       0.97      0.99      0.98       128\n",
      "           4       0.97      0.93      0.95       100\n",
      "\n",
      "    accuracy                           0.96       557\n",
      "   macro avg       0.96      0.96      0.96       557\n",
      "weighted avg       0.96      0.96      0.96       557\n",
      "\n",
      "Accuracy Score= 0.947935368043088\n",
      "Confusion Metrix= \n",
      " [[123   1   1   1   2]\n",
      " [  3  87   3   1   3]\n",
      " [  4   0  97   0   3]\n",
      " [  1   1   1 125   0]\n",
      " [  2   2   0   0  96]]\n",
      "Classification Report= \n",
      "               precision    recall  f1-score   support\n",
      "\n",
      "           0       0.92      0.96      0.94       128\n",
      "           1       0.96      0.90      0.93        97\n",
      "           2       0.95      0.93      0.94       104\n",
      "           3       0.98      0.98      0.98       128\n",
      "           4       0.92      0.96      0.94       100\n",
      "\n",
      "    accuracy                           0.95       557\n",
      "   macro avg       0.95      0.95      0.95       557\n",
      "weighted avg       0.95      0.95      0.95       557\n",
      "\n",
      "Accuracy Score= 0.7935368043087971\n",
      "Confusion Metrix= \n",
      " [[113   5   3   4   3]\n",
      " [ 19  50   4  18   6]\n",
      " [  5   6  85   5   3]\n",
      " [  3   7   2 115   1]\n",
      " [ 12   4   1   4  79]]\n",
      "Classification Report= \n",
      "               precision    recall  f1-score   support\n",
      "\n",
      "           0       0.74      0.88      0.81       128\n",
      "           1       0.69      0.52      0.59        97\n",
      "           2       0.89      0.82      0.85       104\n",
      "           3       0.79      0.90      0.84       128\n",
      "           4       0.86      0.79      0.82       100\n",
      "\n",
      "    accuracy                           0.79       557\n",
      "   macro avg       0.80      0.78      0.78       557\n",
      "weighted avg       0.79      0.79      0.79       557\n",
      "\n"
     ]
    },
    {
     "data": {
      "text/plain": [
       "'Success'"
      ]
     },
     "execution_count": 29,
     "metadata": {},
     "output_type": "execute_result"
    }
   ],
   "source": [
    "train_model(rf_model, cv_x_train,cv_x_test,cv_y_train, cv_y_test)\n",
    "train_model(rf_model, tfidf_x_train,tfidf_x_test,tfidf_y_train, tfidf_y_test )\n",
    "train_model(rf_model, tfidfngram_x_train,tfidfngram_x_test,tfidfngram_y_train, tfidfngram_y_test)\n"
   ]
  },
  {
   "cell_type": "code",
   "execution_count": 30,
   "id": "cbf0cc03-7de9-4298-ade9-9b540b65d30a",
   "metadata": {},
   "outputs": [],
   "source": [
    "from sklearn.svm import SVC"
   ]
  },
  {
   "cell_type": "code",
   "execution_count": 31,
   "id": "b6711b7f-8fbe-4681-b1c4-1dc8a43ec0e2",
   "metadata": {},
   "outputs": [],
   "source": [
    "svc_model=SVC()"
   ]
  },
  {
   "cell_type": "code",
   "execution_count": 32,
   "id": "f4b4c961-948e-4cf3-a9a9-1706d793996b",
   "metadata": {},
   "outputs": [
    {
     "name": "stdout",
     "output_type": "stream",
     "text": [
      "Accuracy Score= 0.9605026929982047\n",
      "Confusion Metrix= \n",
      " [[126   1   0   0   1]\n",
      " [  1  91   2   0   3]\n",
      " [  4   0  95   1   4]\n",
      " [  0   0   0 126   2]\n",
      " [  2   1   0   0  97]]\n",
      "Classification Report= \n",
      "               precision    recall  f1-score   support\n",
      "\n",
      "           0       0.95      0.98      0.97       128\n",
      "           1       0.98      0.94      0.96        97\n",
      "           2       0.98      0.91      0.95       104\n",
      "           3       0.99      0.98      0.99       128\n",
      "           4       0.91      0.97      0.94       100\n",
      "\n",
      "    accuracy                           0.96       557\n",
      "   macro avg       0.96      0.96      0.96       557\n",
      "weighted avg       0.96      0.96      0.96       557\n",
      "\n",
      "Accuracy Score= 0.9605026929982047\n",
      "Confusion Metrix= \n",
      " [[124   2   1   1   0]\n",
      " [  1  91   3   0   2]\n",
      " [  2   1  99   1   1]\n",
      " [  0   1   2 125   0]\n",
      " [  1   3   0   0  96]]\n",
      "Classification Report= \n",
      "               precision    recall  f1-score   support\n",
      "\n",
      "           0       0.97      0.97      0.97       128\n",
      "           1       0.93      0.94      0.93        97\n",
      "           2       0.94      0.95      0.95       104\n",
      "           3       0.98      0.98      0.98       128\n",
      "           4       0.97      0.96      0.96       100\n",
      "\n",
      "    accuracy                           0.96       557\n",
      "   macro avg       0.96      0.96      0.96       557\n",
      "weighted avg       0.96      0.96      0.96       557\n",
      "\n",
      "Accuracy Score= 0.8132854578096947\n",
      "Confusion Metrix= \n",
      " [[113   8   4   1   2]\n",
      " [ 10  66   2  15   4]\n",
      " [  4  11  80   4   5]\n",
      " [  1   8   3 115   1]\n",
      " [ 13   6   0   2  79]]\n",
      "Classification Report= \n",
      "               precision    recall  f1-score   support\n",
      "\n",
      "           0       0.80      0.88      0.84       128\n",
      "           1       0.67      0.68      0.67        97\n",
      "           2       0.90      0.77      0.83       104\n",
      "           3       0.84      0.90      0.87       128\n",
      "           4       0.87      0.79      0.83       100\n",
      "\n",
      "    accuracy                           0.81       557\n",
      "   macro avg       0.81      0.80      0.81       557\n",
      "weighted avg       0.82      0.81      0.81       557\n",
      "\n"
     ]
    },
    {
     "data": {
      "text/plain": [
       "'Success'"
      ]
     },
     "execution_count": 32,
     "metadata": {},
     "output_type": "execute_result"
    }
   ],
   "source": [
    "train_model(svc_model, cv_x_train,cv_x_test,cv_y_train, cv_y_test)\n",
    "train_model(svc_model, tfidf_x_train,tfidf_x_test,tfidf_y_train, tfidf_y_test )\n",
    "train_model(svc_model, tfidfngram_x_train,tfidfngram_x_test,tfidfngram_y_train, tfidfngram_y_test)\n"
   ]
  },
  {
   "cell_type": "code",
   "execution_count": 38,
   "id": "fe41ee22-ccb8-476c-98b7-baa793ea9480",
   "metadata": {},
   "outputs": [
    {
     "name": "stdout",
     "output_type": "stream",
     "text": [
      "Accuracy Score= 0.9748653500897666\n",
      "Confusion Metrix= \n",
      " [[126   1   0   0   1]\n",
      " [  0  90   3   0   4]\n",
      " [  1   0 101   0   2]\n",
      " [  0   0   0 128   0]\n",
      " [  0   1   1   0  98]]\n",
      "Classification Report= \n",
      "               precision    recall  f1-score   support\n",
      "\n",
      "           0       0.99      0.98      0.99       128\n",
      "           1       0.98      0.93      0.95        97\n",
      "           2       0.96      0.97      0.97       104\n",
      "           3       1.00      1.00      1.00       128\n",
      "           4       0.93      0.98      0.96       100\n",
      "\n",
      "    accuracy                           0.97       557\n",
      "   macro avg       0.97      0.97      0.97       557\n",
      "weighted avg       0.98      0.97      0.97       557\n",
      "\n",
      "Article category= entertainment\n"
     ]
    }
   ],
   "source": [
    "train_model(nb_model, cv_x_train,cv_x_test,cv_y_train, cv_y_test)\n",
    "\n",
    "article='''Rajinikanth fans are amazed after spotting a mosquito bat at Thalaiva’s house. \n",
    "Recently Kantara fame actor-and-director Rishab Shetty paid a visit to Rajinikanth and\n",
    "posted pictures from their private meeting. Many also pointed out that the veteran actor\n",
    "gifted Rishab a gold chain, \n",
    "days after praising his film on Twitte'''\n",
    "\n",
    "text=[''.join(article)]\n",
    "# print(text)\n",
    "\n",
    "user_count_vec=count_vec.transform(text)\n",
    "# print(user_count_vec)\n",
    "user_count_vec.shape\n",
    "result=nb_model.predict(user_count_vec)\n",
    "class_list=le.classes_\n",
    "\n",
    "print(f\"Article category= {class_list[result[0]]}\")"
   ]
  },
  {
   "cell_type": "code",
   "execution_count": 36,
   "id": "c2094398-f706-4635-8fb8-dc0e63d8f771",
   "metadata": {},
   "outputs": [
    {
     "data": {
      "text/plain": [
       "array(['business', 'entertainment', 'politics', 'sport', 'tech'],\n",
       "      dtype=object)"
      ]
     },
     "execution_count": 36,
     "metadata": {},
     "output_type": "execute_result"
    }
   ],
   "source": [
    "le.classes_"
   ]
  },
  {
   "cell_type": "code",
   "execution_count": null,
   "id": "112521c7-1606-4189-b412-e5d8d56e68f2",
   "metadata": {},
   "outputs": [],
   "source": []
  },
  {
   "cell_type": "code",
   "execution_count": 39,
   "id": "01a0f1f8-8c3e-437c-b08f-1195293c5ae4",
   "metadata": {},
   "outputs": [
    {
     "name": "stdout",
     "output_type": "stream",
     "text": [
      "Accuracy Score= 0.9748653500897666\n",
      "Confusion Metrix= \n",
      " [[126   1   0   0   1]\n",
      " [  0  90   3   0   4]\n",
      " [  1   0 101   0   2]\n",
      " [  0   0   0 128   0]\n",
      " [  0   1   1   0  98]]\n",
      "Classification Report= \n",
      "               precision    recall  f1-score   support\n",
      "\n",
      "           0       0.99      0.98      0.99       128\n",
      "           1       0.98      0.93      0.95        97\n",
      "           2       0.96      0.97      0.97       104\n",
      "           3       1.00      1.00      1.00       128\n",
      "           4       0.93      0.98      0.96       100\n",
      "\n",
      "    accuracy                           0.97       557\n",
      "   macro avg       0.97      0.97      0.97       557\n",
      "weighted avg       0.98      0.97      0.97       557\n",
      "\n",
      "Article category= sport\n"
     ]
    }
   ],
   "source": [
    "train_model(nb_model, cv_x_train,cv_x_test,cv_y_train, cv_y_test)\n",
    "\n",
    "\n",
    "ar='''ndia could put one foot in the semi-finals of the 2022 \n",
    "T20 World Cup if they win their next match on Sunday at the Perth Stadium.\n",
    "However, their opponents are a strong South African team who like India are yet to\n",
    "lose a match in this tournament. While India won both the matches they have played thus far,\n",
    "South Africa have one won and was almost in line to winning the other as well if it \n",
    "wasn't for the fact that rain forced the match to be abandoned.'''\n",
    "\n",
    "text=[''.join(ar)]\n",
    "# print(text)\n",
    "\n",
    "user_count_vec=count_vec.transform(text)\n",
    "# print(user_count_vec)\n",
    "user_count_vec.shape\n",
    "result=nb_model.predict(user_count_vec)\n",
    "class_list=le.classes_\n",
    "\n",
    "print(f\"Article category= {class_list[result[0]]}\")"
   ]
  },
  {
   "cell_type": "code",
   "execution_count": null,
   "id": "c42204aa-d91b-447a-9ee3-ae2c08160319",
   "metadata": {},
   "outputs": [],
   "source": []
  },
  {
   "cell_type": "code",
   "execution_count": null,
   "id": "460f91fc-eb24-45bb-a03d-9b69f5040e1a",
   "metadata": {},
   "outputs": [],
   "source": []
  },
  {
   "cell_type": "code",
   "execution_count": null,
   "id": "c19fac47-07a9-4c81-8a38-6e2824879ce9",
   "metadata": {},
   "outputs": [],
   "source": []
  },
  {
   "cell_type": "code",
   "execution_count": null,
   "id": "52e783b7-6092-44eb-a9e1-9f022f8bef3e",
   "metadata": {},
   "outputs": [],
   "source": []
  },
  {
   "cell_type": "code",
   "execution_count": null,
   "id": "f69dddf8-2ff3-44fe-9820-cc46ee79ae14",
   "metadata": {},
   "outputs": [],
   "source": []
  },
  {
   "cell_type": "code",
   "execution_count": null,
   "id": "f6afc6a5-4580-4e53-8854-6ad3c68ee0b9",
   "metadata": {},
   "outputs": [],
   "source": []
  },
  {
   "cell_type": "code",
   "execution_count": null,
   "id": "0178117b-77e3-446e-970d-d349ab36f314",
   "metadata": {},
   "outputs": [],
   "source": []
  },
  {
   "cell_type": "code",
   "execution_count": null,
   "id": "4e292b6e-641a-444d-90de-74b2464f277f",
   "metadata": {},
   "outputs": [],
   "source": []
  },
  {
   "cell_type": "code",
   "execution_count": null,
   "id": "19733ded-6551-4fbd-a915-96c13a7f1cfe",
   "metadata": {},
   "outputs": [],
   "source": []
  },
  {
   "cell_type": "code",
   "execution_count": null,
   "id": "2d9f38a4-e6ca-4154-8042-ae7af7f7ed69",
   "metadata": {},
   "outputs": [],
   "source": []
  },
  {
   "cell_type": "code",
   "execution_count": null,
   "id": "9d1da98a-66d4-4ea1-b33c-459c79085088",
   "metadata": {},
   "outputs": [],
   "source": []
  },
  {
   "cell_type": "code",
   "execution_count": null,
   "id": "18662c06-8a7d-43b2-9b24-08aa52271fb0",
   "metadata": {},
   "outputs": [],
   "source": []
  },
  {
   "cell_type": "code",
   "execution_count": null,
   "id": "11eef0bc-ca91-4f1e-bd62-7516fe61708a",
   "metadata": {},
   "outputs": [],
   "source": []
  },
  {
   "cell_type": "code",
   "execution_count": null,
   "id": "905ba01c-bad7-4fa1-aa87-a0c86b360f1a",
   "metadata": {},
   "outputs": [],
   "source": []
  },
  {
   "cell_type": "code",
   "execution_count": null,
   "id": "f87dba4b-b8bc-48eb-b886-04321e72e795",
   "metadata": {},
   "outputs": [],
   "source": []
  },
  {
   "cell_type": "code",
   "execution_count": null,
   "id": "f20b8ff1-f339-4455-afa9-23ef2aea5ce8",
   "metadata": {},
   "outputs": [],
   "source": []
  },
  {
   "cell_type": "code",
   "execution_count": null,
   "id": "0cc1e895-84ee-49d3-8083-79a7146e12d4",
   "metadata": {},
   "outputs": [],
   "source": []
  },
  {
   "cell_type": "code",
   "execution_count": null,
   "id": "1df60511-c7ca-4d7e-8bdc-31d9ed1e80b4",
   "metadata": {},
   "outputs": [],
   "source": []
  },
  {
   "cell_type": "code",
   "execution_count": null,
   "id": "b5388957-a4fe-4b0d-8546-da0f55f7a4b5",
   "metadata": {},
   "outputs": [],
   "source": []
  },
  {
   "cell_type": "code",
   "execution_count": null,
   "id": "123b58e9-b71f-43dd-a651-584c9d0af31a",
   "metadata": {},
   "outputs": [],
   "source": []
  },
  {
   "cell_type": "code",
   "execution_count": null,
   "id": "cc295202-fef9-4ed3-bc82-403c46035e83",
   "metadata": {},
   "outputs": [],
   "source": []
  },
  {
   "cell_type": "code",
   "execution_count": null,
   "id": "5b414563-d4cc-47a7-8f33-97791f1b5f22",
   "metadata": {},
   "outputs": [],
   "source": []
  },
  {
   "cell_type": "code",
   "execution_count": null,
   "id": "1f1e0cfc-ad20-43f8-9127-c73ef70468f7",
   "metadata": {},
   "outputs": [],
   "source": []
  },
  {
   "cell_type": "code",
   "execution_count": null,
   "id": "879071b9-689f-48a3-a81b-32f289b75048",
   "metadata": {},
   "outputs": [],
   "source": []
  },
  {
   "cell_type": "code",
   "execution_count": null,
   "id": "70472154-d312-489d-89d2-3d9edd430524",
   "metadata": {},
   "outputs": [],
   "source": []
  },
  {
   "cell_type": "code",
   "execution_count": null,
   "id": "5debbc13-cbe7-4adc-8722-d20f016cee6e",
   "metadata": {},
   "outputs": [],
   "source": []
  },
  {
   "cell_type": "code",
   "execution_count": null,
   "id": "48eb12dc-f831-4609-8963-8ec05bfc8166",
   "metadata": {},
   "outputs": [],
   "source": []
  }
 ],
 "metadata": {
  "kernelspec": {
   "display_name": "myenv",
   "language": "python",
   "name": "myenv"
  },
  "language_info": {
   "codemirror_mode": {
    "name": "ipython",
    "version": 3
   },
   "file_extension": ".py",
   "mimetype": "text/x-python",
   "name": "python",
   "nbconvert_exporter": "python",
   "pygments_lexer": "ipython3",
   "version": "3.10.6"
  }
 },
 "nbformat": 4,
 "nbformat_minor": 5
}
